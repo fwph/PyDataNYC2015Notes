{
 "cells": [
  {
   "cell_type": "code",
   "execution_count": 3,
   "metadata": {
    "collapsed": false
   },
   "outputs": [
    {
     "data": {
      "text/plain": [
       "4x4 Array{Float64,2}:\n",
       " 1.0  0.0  0.0  0.0\n",
       " 0.0  1.0  0.0  0.0\n",
       " 0.0  0.0  1.0  0.0\n",
       " 0.0  0.0  0.0  1.0"
      ]
     },
     "execution_count": 3,
     "metadata": {},
     "output_type": "execute_result"
    }
   ],
   "source": [
    "eye(4)"
   ]
  },
  {
   "cell_type": "markdown",
   "metadata": {},
   "source": [
    "### Julia for Data Analysis and Beyond\n",
    "- - - - - - - - - - - - - - - - - - - -\n",
    "**Stefan Karpinski** *Julia Computing & NYU Center for Data Science*\n",
    "\n",
    "Julia's aim is to resolve two language problem\n",
    "- dynamic, compiled, fast, easy, user & standard types\n",
    "- ex prefers you write loops, not vectorizations, handles the optimization\n",
    "\n",
    "*(Gadfly grammar-of-graphics library looks pretty neat)*\n",
    "\n",
    "@code_native shows what julia generated...\n",
    "@time for timing...\n",
    "\n",
    "juliabox.org"
   ]
  },
  {
   "cell_type": "code",
   "execution_count": null,
   "metadata": {
    "collapsed": true
   },
   "outputs": [],
   "source": []
  }
 ],
 "metadata": {
  "kernelspec": {
   "display_name": "Julia 0.4.0",
   "language": "julia",
   "name": "julia-0.4"
  },
  "language_info": {
   "file_extension": ".jl",
   "mimetype": "application/julia",
   "name": "julia",
   "version": "0.4.0"
  }
 },
 "nbformat": 4,
 "nbformat_minor": 0
}
